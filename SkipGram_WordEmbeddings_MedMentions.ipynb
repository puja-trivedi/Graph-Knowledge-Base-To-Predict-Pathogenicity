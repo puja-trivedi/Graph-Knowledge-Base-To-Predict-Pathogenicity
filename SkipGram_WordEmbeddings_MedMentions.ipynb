{
  "nbformat": 4,
  "nbformat_minor": 0,
  "metadata": {
    "colab": {
      "provenance": [],
      "machine_shape": "hm"
    },
    "kernelspec": {
      "name": "python3",
      "display_name": "Python 3"
    },
    "language_info": {
      "name": "python"
    },
    "gpuClass": "premium"
  },
  "cells": [
    {
      "cell_type": "code",
      "source": [
        "import torch\n",
        "import torch.nn as nn\n",
        "import re\n",
        "import numpy as np\n",
        "import random\n",
        "import math\n",
        "from collections import Counter\n",
        "from torch.utils.data import Dataset, DataLoader\n",
        "from tqdm import tqdm"
      ],
      "metadata": {
        "id": "wzf7QHL6J1Hc"
      },
      "execution_count": null,
      "outputs": []
    },
    {
      "cell_type": "code",
      "source": [
        "import nltk # Natural Language Toolkit\n",
        "nltk.download('stopwords') # Download text data sets, including stop words\n",
        "nltk.download('wordnet')\n",
        "nltk.download('omw-1.4')\n",
        "nltk.download('punkt')\n",
        "from nltk.corpus import stopwords # Import the stop word list\n",
        "from nltk.stem.snowball import SnowballStemmer\n",
        "from nltk.stem import WordNetLemmatizer"
      ],
      "metadata": {
        "id": "s52XtAQ1Ye0X",
        "colab": {
          "base_uri": "https://localhost:8080/"
        },
        "outputId": "a6d7d409-3583-4996-caef-f3a6160138e0"
      },
      "execution_count": null,
      "outputs": [
        {
          "output_type": "stream",
          "name": "stderr",
          "text": [
            "[nltk_data] Downloading package stopwords to /root/nltk_data...\n",
            "[nltk_data]   Unzipping corpora/stopwords.zip.\n",
            "[nltk_data] Downloading package wordnet to /root/nltk_data...\n",
            "[nltk_data] Downloading package omw-1.4 to /root/nltk_data...\n",
            "[nltk_data] Downloading package punkt to /root/nltk_data...\n",
            "[nltk_data]   Unzipping tokenizers/punkt.zip.\n"
          ]
        }
      ]
    },
    {
      "cell_type": "code",
      "execution_count": null,
      "metadata": {
        "id": "6e25hrBrCc5m"
      },
      "outputs": [],
      "source": [
        "with open(\"/content/corpus_pubtator.txt\") as file:\n",
        "  original_corpus = file.readlines()\n"
      ]
    },
    {
      "cell_type": "markdown",
      "source": [
        "# Implementing Word2Vec From Scratch\n"
      ],
      "metadata": {
        "id": "Doo8mECxamNv"
      }
    },
    {
      "cell_type": "code",
      "source": [
        " # Preprocess the text data and generate a vocabulary\n",
        "def preprocess_corpus(corpus, min_occurence=5):\n",
        "    # 1. Extract all the titles and abstracts from the file \n",
        "    pattern = \"[0-9]+\\|[a,t]\\|\"\n",
        "    abstracts = [re.sub(pattern, '', i) for i in corpus if re.search(pattern, i)]\n",
        "    abstracts = \" \".join(abstracts)\n",
        "    # 2. Remove non-letters\n",
        "    all_words = re.sub(\"[^a-zA-Z]\", \" \", abstracts) \n",
        "\n",
        "    # 3. Convert to lower case, split into individual words\n",
        "    all_words = all_words.lower().split()\n",
        "\n",
        "    # # 4. Remove stop words (\"stop words\" => frequently occurring words that don't carry much meaning. i.e. \"a\", \"is\", \"the\")\n",
        "    # stops = set(stopwords.words('english'))\n",
        "    # meaningful_words = [i for i in all_words if i not in stops]\n",
        "    # print(f'Step 4: Removing stop words:')\n",
        "    # print(f'\\tReduced total number of words from {len(all_words)} to {len(meaningful_words)}')\n",
        "    # print(f'\\tReduced vocabulary size from {len(set(all_words))} to {len(set(meaningful_words))}')\n",
        "\n",
        "    # #5a. Apply Snowball Stemmer (a stemmer converts words to its root form)\n",
        "    # ss = SnowballStemmer('english')\n",
        "    # all_tokens_stemmer = [ss.stem(i) for i in meaningful_words]\n",
        "    # print(f'Step 5: Applying Snowball Stemmer:')\n",
        "    # print(f'\\tReduced vocabulary size from {len(set(meaningful_words))} to {len(set(all_tokens_stemmer))}')\n",
        "\n",
        "    # 5b. Lemmatizing \n",
        "    lemmatizer = WordNetLemmatizer()\n",
        "    all_tokens = [lemmatizer.lemmatize(i) for i in all_words]\n",
        "    print(f'Step 5: Applying Lemmatizer:')\n",
        "    print(f'\\tReduced vocabulary size from {len(set(all_words))} to {len(set(all_tokens))}')\n",
        "\n",
        "    # 6. Find counts of each token \n",
        "    token_counts = Counter(all_tokens)\n",
        "\n",
        "    # 7. Filter out words that occur fewer than min_occurence to reduce size of vocabulary\n",
        "    token_counts = {i:k for i,k in token_counts.items() if k > min_occurence}\n",
        "\n",
        "    # 8. Create vocabulary\n",
        "    vocab = list(token_counts.keys())\n",
        "    vocab_size = len(vocab)\n",
        "    print(f'Final size of vocabulary: {vocab_size}')\n",
        "\n",
        "    # 9. Create token_id for each token in vocab and create mapping between {token_id -> token} and {token -> token_id}\n",
        "    id2token = dict(enumerate(vocab))\n",
        "    token2id = {v:k for k,v in id2token.items()}\n",
        "\n",
        "    # 10. Remove rare tokens\n",
        "    tokens = [i for i in all_tokens if i in token2id]\n",
        "\n",
        "    return tokens, vocab, id2token, token2id"
      ],
      "metadata": {
        "id": "4qwNnhSi64as"
      },
      "execution_count": null,
      "outputs": []
    },
    {
      "cell_type": "code",
      "source": [
        "class SkipGramDataset(Dataset):\n",
        "    def __init__(self, corpus, token2id, window_size):\n",
        "        self.corpus = corpus\n",
        "        self.token2id = token2id\n",
        "        self.window_size = window_size\n",
        "        self.target_context = self.generate_target_context_pairs()\n",
        "        self.skip_grams = self.generate_skip_grams()\n",
        "\n",
        "    def __getitem__(self, index):\n",
        "        return self.skip_grams[index]\n",
        "\n",
        "    def __len__(self):\n",
        "        return len(self.skip_grams)\n",
        "\n",
        "    def generate_target_context_pairs(self):\n",
        "        target_context = []\n",
        "        for i, word in enumerate(self.corpus):\n",
        "            target_id = self.token2id[word]\n",
        "            context_ids = []\n",
        "            for j in range(i-self.window_size, i+self.window_size+1,1):\n",
        "                if j>=0 and j<len(self.corpus) and j!=i:\n",
        "                    context_ids.append(self.token2id[self.corpus[j]])\n",
        "            target_context.append((target_id, context_ids))     \n",
        "        return target_context\n",
        "    \n",
        "    def generate_skip_grams(self):\n",
        "        skip_grams = []\n",
        "        progress = tqdm(range(len(self.target_context)))\n",
        "        for target_id, context_id in self.target_context:\n",
        "            c = torch.zeros(len(token2id))\n",
        "            prob = 1/len(context_id)\n",
        "            for i in context_id:\n",
        "                c[i] += prob\n",
        "            skip_grams.append((target_id,c))\n",
        "            progress.update(1)   \n",
        "        return skip_grams     "
      ],
      "metadata": {
        "id": "ngsjRN5mlDKN"
      },
      "execution_count": null,
      "outputs": []
    },
    {
      "cell_type": "code",
      "source": [
        "class Word2VecNN(nn.Module):\n",
        "    def __init__(self, vocab_size, embedding_size):\n",
        "         super(Word2VecNN, self).__init__()\n",
        "         self.embedding = nn.Embedding(vocab_size, embedding_size)\n",
        "         self.linear = nn.Linear(embedding_size, vocab_size, bias=False)\n",
        "\n",
        "    def forward(self, target):\n",
        "        hidden = self.embedding(target)\n",
        "        output = self.linear(hidden)\n",
        "        return output\n"
      ],
      "metadata": {
        "id": "8E_y0euic7fT"
      },
      "execution_count": null,
      "outputs": []
    },
    {
      "cell_type": "code",
      "source": [
        "# device config\n",
        "device = torch.device('cuda' if torch.cuda.is_available() else 'cpu')\n",
        "print(f'Device: {device}')\n",
        "# hyperparameters\n",
        "EMBEDDING_DIM = 300\n",
        "LEARNING_RATE = 0.001\n",
        "NUM_EPOCHS = 30\n",
        "BATCH_SIZE = 1000\n",
        "WINDOW_SIZE = 3\n",
        "MIN_OCCURENCE = 5"
      ],
      "metadata": {
        "id": "zSoD1gz7JpEm",
        "colab": {
          "base_uri": "https://localhost:8080/"
        },
        "outputId": "2ec33367-0210-47d1-d4cf-2d9f1359ebb2"
      },
      "execution_count": null,
      "outputs": [
        {
          "output_type": "stream",
          "name": "stdout",
          "text": [
            "Device: cuda\n"
          ]
        }
      ]
    },
    {
      "cell_type": "code",
      "source": [
        "# Preprocess the corpus and generate a vocabulary\n",
        "corpus, vocab, id2token, token2id = preprocess_corpus(original_corpus, MIN_OCCURENCE)"
      ],
      "metadata": {
        "colab": {
          "base_uri": "https://localhost:8080/"
        },
        "id": "ihmSLk9F8Irz",
        "outputId": "942c47d2-acbc-4793-b8b7-adbdf2e322f5"
      },
      "execution_count": null,
      "outputs": [
        {
          "output_type": "stream",
          "name": "stdout",
          "text": [
            "Step 5: Applying Lemmatizer:\n",
            "\tReduced vocabulary size from 36102 to 32871\n",
            "Final size of vocabulary: 11407\n"
          ]
        }
      ]
    },
    {
      "cell_type": "code",
      "source": [
        "# Instantiate the Skip-Gram model\n",
        "w2v_model = Word2VecNN(len(vocab), EMBEDDING_DIM)\n",
        "\n",
        "# Define the loss function and optimizer\n",
        "criterion = nn.CrossEntropyLoss()\n",
        "optimizer = torch.optim.Adam(w2v_model.parameters(), lr=LEARNING_RATE)\n",
        "\n",
        "# Move model to GPU\n",
        "w2v_model.to(device)\n",
        "criterion.to(device)"
      ],
      "metadata": {
        "id": "yuAqrbFII0Jj",
        "colab": {
          "base_uri": "https://localhost:8080/"
        },
        "outputId": "af65afe1-8518-4438-a9ee-a1eb151bc5eb"
      },
      "execution_count": null,
      "outputs": [
        {
          "output_type": "execute_result",
          "data": {
            "text/plain": [
              "CrossEntropyLoss()"
            ]
          },
          "metadata": {},
          "execution_count": 10
        }
      ]
    },
    {
      "cell_type": "code",
      "source": [
        "# Define a DataLoader to iterate over the Skip-Gram input-output pairs\n",
        "dataset = SkipGramDataset(corpus, token2id, WINDOW_SIZE)\n",
        "dataloader = DataLoader(dataset, batch_size=BATCH_SIZE, shuffle=True)"
      ],
      "metadata": {
        "colab": {
          "base_uri": "https://localhost:8080/"
        },
        "id": "F9dEpqI5xke4",
        "outputId": "4fc7b24a-2d9c-486e-de88-dbce437ee528"
      },
      "execution_count": null,
      "outputs": [
        {
          "output_type": "stream",
          "name": "stderr",
          "text": [
            "100%|██████████| 951396/951396 [01:32<00:00, 10289.55it/s]\n"
          ]
        }
      ]
    },
    {
      "cell_type": "code",
      "source": [
        "#training \n",
        "\n",
        "progress = tqdm(range(NUM_EPOCHS * len(dataset) // BATCH_SIZE))\n",
        "loss_progress = []\n",
        "for epoch in range(NUM_EPOCHS):\n",
        "    for target, context in dataloader:\n",
        "        # move to GPU\n",
        "        target = target.to(device)\n",
        "        context = context.to(device)\n",
        "        # zero gradients\n",
        "        optimizer.zero_grad()\n",
        "        # forward pass\n",
        "        output = w2v_model(target)\n",
        "        # compute loss\n",
        "        loss = criterion(output, context)\n",
        "        # backward pass\n",
        "        loss.backward()\n",
        "        optimizer.step()\n",
        "        #progress\n",
        "        loss_progress.append(loss.item())\n",
        "        progress.update(1)\n",
        "    print(f'\\nEpoch {epoch+1}/10 -> loss: {loss.item()}')\n",
        "\n"
      ],
      "metadata": {
        "id": "kta3-izKL2CH",
        "colab": {
          "base_uri": "https://localhost:8080/"
        },
        "outputId": "32550479-d344-45a4-a811-d2048e29746c"
      },
      "execution_count": null,
      "outputs": [
        {
          "output_type": "stream",
          "name": "stderr",
          "text": [
            "  3%|▎         | 955/28541 [00:40<22:40, 20.28it/s]"
          ]
        },
        {
          "output_type": "stream",
          "name": "stdout",
          "text": [
            "\n",
            "Epoch 1/10 -> loss: 6.877274990081787\n"
          ]
        },
        {
          "output_type": "stream",
          "name": "stderr",
          "text": [
            "  7%|▋         | 1906/28541 [01:18<22:16, 19.93it/s]"
          ]
        },
        {
          "output_type": "stream",
          "name": "stdout",
          "text": [
            "\n",
            "Epoch 2/10 -> loss: 6.8330979347229\n"
          ]
        },
        {
          "output_type": "stream",
          "name": "stderr",
          "text": [
            " 10%|█         | 2857/28541 [01:55<21:38, 19.78it/s]"
          ]
        },
        {
          "output_type": "stream",
          "name": "stdout",
          "text": [
            "\n",
            "Epoch 3/10 -> loss: 6.684240341186523\n"
          ]
        },
        {
          "output_type": "stream",
          "name": "stderr",
          "text": [
            " 13%|█▎        | 3811/28541 [02:33<19:38, 20.99it/s]"
          ]
        },
        {
          "output_type": "stream",
          "name": "stdout",
          "text": [
            "\n",
            "Epoch 4/10 -> loss: 6.649930477142334\n"
          ]
        },
        {
          "output_type": "stream",
          "name": "stderr",
          "text": [
            " 17%|█▋        | 4762/28541 [03:10<20:27, 19.37it/s]"
          ]
        },
        {
          "output_type": "stream",
          "name": "stdout",
          "text": [
            "\n",
            "Epoch 5/10 -> loss: 6.5963454246521\n"
          ]
        },
        {
          "output_type": "stream",
          "name": "stderr",
          "text": [
            " 20%|██        | 5713/28541 [03:47<18:57, 20.06it/s]"
          ]
        },
        {
          "output_type": "stream",
          "name": "stdout",
          "text": [
            "\n",
            "Epoch 6/10 -> loss: 6.601461410522461\n"
          ]
        },
        {
          "output_type": "stream",
          "name": "stderr",
          "text": [
            " 23%|██▎       | 6667/28541 [04:24<17:49, 20.45it/s]"
          ]
        },
        {
          "output_type": "stream",
          "name": "stdout",
          "text": [
            "\n",
            "Epoch 7/10 -> loss: 6.526730537414551\n"
          ]
        },
        {
          "output_type": "stream",
          "name": "stderr",
          "text": [
            " 27%|██▋       | 7618/28541 [05:02<17:11, 20.28it/s]"
          ]
        },
        {
          "output_type": "stream",
          "name": "stdout",
          "text": [
            "\n",
            "Epoch 8/10 -> loss: 6.53032112121582\n"
          ]
        },
        {
          "output_type": "stream",
          "name": "stderr",
          "text": [
            " 30%|███       | 8569/28541 [05:39<16:57, 19.62it/s]"
          ]
        },
        {
          "output_type": "stream",
          "name": "stdout",
          "text": [
            "\n",
            "Epoch 9/10 -> loss: 6.466095447540283\n"
          ]
        },
        {
          "output_type": "stream",
          "name": "stderr",
          "text": [
            " 33%|███▎      | 9523/28541 [06:15<15:13, 20.82it/s]"
          ]
        },
        {
          "output_type": "stream",
          "name": "stdout",
          "text": [
            "\n",
            "Epoch 10/10 -> loss: 6.307358264923096\n"
          ]
        },
        {
          "output_type": "stream",
          "name": "stderr",
          "text": [
            " 37%|███▋      | 10474/28541 [06:52<14:41, 20.50it/s]"
          ]
        },
        {
          "output_type": "stream",
          "name": "stdout",
          "text": [
            "\n",
            "Epoch 11/10 -> loss: 6.386828422546387\n"
          ]
        },
        {
          "output_type": "stream",
          "name": "stderr",
          "text": [
            " 40%|████      | 11425/28541 [07:29<14:00, 20.37it/s]"
          ]
        },
        {
          "output_type": "stream",
          "name": "stdout",
          "text": [
            "\n",
            "Epoch 12/10 -> loss: 6.413100719451904\n"
          ]
        },
        {
          "output_type": "stream",
          "name": "stderr",
          "text": [
            " 43%|████▎     | 12379/28541 [08:05<12:52, 20.92it/s]"
          ]
        },
        {
          "output_type": "stream",
          "name": "stdout",
          "text": [
            "\n",
            "Epoch 13/10 -> loss: 6.438106060028076\n"
          ]
        },
        {
          "output_type": "stream",
          "name": "stderr",
          "text": [
            " 47%|████▋     | 13330/28541 [08:42<12:31, 20.25it/s]"
          ]
        },
        {
          "output_type": "stream",
          "name": "stdout",
          "text": [
            "\n",
            "Epoch 14/10 -> loss: 6.47542667388916\n"
          ]
        },
        {
          "output_type": "stream",
          "name": "stderr",
          "text": [
            " 50%|█████     | 14281/28541 [09:19<12:00, 19.80it/s]"
          ]
        },
        {
          "output_type": "stream",
          "name": "stdout",
          "text": [
            "\n",
            "Epoch 15/10 -> loss: 6.397305488586426\n"
          ]
        },
        {
          "output_type": "stream",
          "name": "stderr",
          "text": [
            " 53%|█████▎    | 15235/28541 [09:56<10:34, 20.98it/s]"
          ]
        },
        {
          "output_type": "stream",
          "name": "stdout",
          "text": [
            "\n",
            "Epoch 16/10 -> loss: 6.4317145347595215\n"
          ]
        },
        {
          "output_type": "stream",
          "name": "stderr",
          "text": [
            " 57%|█████▋    | 16186/28541 [10:33<10:24, 19.79it/s]"
          ]
        },
        {
          "output_type": "stream",
          "name": "stdout",
          "text": [
            "\n",
            "Epoch 17/10 -> loss: 6.376096248626709\n"
          ]
        },
        {
          "output_type": "stream",
          "name": "stderr",
          "text": [
            " 60%|██████    | 17137/28541 [11:10<09:23, 20.24it/s]"
          ]
        },
        {
          "output_type": "stream",
          "name": "stdout",
          "text": [
            "\n",
            "Epoch 18/10 -> loss: 6.378512382507324\n"
          ]
        },
        {
          "output_type": "stream",
          "name": "stderr",
          "text": [
            " 63%|██████▎   | 18091/28541 [11:47<08:19, 20.92it/s]"
          ]
        },
        {
          "output_type": "stream",
          "name": "stdout",
          "text": [
            "\n",
            "Epoch 19/10 -> loss: 6.1599860191345215\n"
          ]
        },
        {
          "output_type": "stream",
          "name": "stderr",
          "text": [
            " 67%|██████▋   | 19042/28541 [12:23<07:50, 20.18it/s]"
          ]
        },
        {
          "output_type": "stream",
          "name": "stdout",
          "text": [
            "\n",
            "Epoch 20/10 -> loss: 6.294219017028809\n"
          ]
        },
        {
          "output_type": "stream",
          "name": "stderr",
          "text": [
            " 70%|███████   | 19993/28541 [13:00<06:58, 20.42it/s]"
          ]
        },
        {
          "output_type": "stream",
          "name": "stdout",
          "text": [
            "\n",
            "Epoch 21/10 -> loss: 6.324338436126709\n"
          ]
        },
        {
          "output_type": "stream",
          "name": "stderr",
          "text": [
            " 73%|███████▎  | 20947/28541 [13:37<06:06, 20.70it/s]"
          ]
        },
        {
          "output_type": "stream",
          "name": "stdout",
          "text": [
            "\n",
            "Epoch 22/10 -> loss: 6.358175277709961\n"
          ]
        },
        {
          "output_type": "stream",
          "name": "stderr",
          "text": [
            " 77%|███████▋  | 21898/28541 [14:13<05:25, 20.39it/s]"
          ]
        },
        {
          "output_type": "stream",
          "name": "stdout",
          "text": [
            "\n",
            "Epoch 23/10 -> loss: 6.387348651885986\n"
          ]
        },
        {
          "output_type": "stream",
          "name": "stderr",
          "text": [
            " 80%|████████  | 22849/28541 [14:50<04:38, 20.45it/s]"
          ]
        },
        {
          "output_type": "stream",
          "name": "stdout",
          "text": [
            "\n",
            "Epoch 24/10 -> loss: 6.356710433959961\n"
          ]
        },
        {
          "output_type": "stream",
          "name": "stderr",
          "text": [
            " 83%|████████▎ | 23803/28541 [15:27<03:49, 20.68it/s]"
          ]
        },
        {
          "output_type": "stream",
          "name": "stdout",
          "text": [
            "\n",
            "Epoch 25/10 -> loss: 6.302180290222168\n"
          ]
        },
        {
          "output_type": "stream",
          "name": "stderr",
          "text": [
            " 87%|████████▋ | 24754/28541 [16:03<03:03, 20.66it/s]"
          ]
        },
        {
          "output_type": "stream",
          "name": "stdout",
          "text": [
            "\n",
            "Epoch 26/10 -> loss: 6.294306755065918\n"
          ]
        },
        {
          "output_type": "stream",
          "name": "stderr",
          "text": [
            " 90%|█████████ | 25705/28541 [16:40<02:20, 20.18it/s]"
          ]
        },
        {
          "output_type": "stream",
          "name": "stdout",
          "text": [
            "\n",
            "Epoch 27/10 -> loss: 6.3168559074401855\n"
          ]
        },
        {
          "output_type": "stream",
          "name": "stderr",
          "text": [
            " 93%|█████████▎| 26659/28541 [17:17<01:29, 20.99it/s]"
          ]
        },
        {
          "output_type": "stream",
          "name": "stdout",
          "text": [
            "\n",
            "Epoch 28/10 -> loss: 6.259531497955322\n"
          ]
        },
        {
          "output_type": "stream",
          "name": "stderr",
          "text": [
            " 97%|█████████▋| 27610/28541 [17:53<00:46, 20.05it/s]"
          ]
        },
        {
          "output_type": "stream",
          "name": "stdout",
          "text": [
            "\n",
            "Epoch 29/10 -> loss: 6.203258037567139\n"
          ]
        },
        {
          "output_type": "stream",
          "name": "stderr",
          "text": [
            "28558it [18:29, 26.30it/s]"
          ]
        },
        {
          "output_type": "stream",
          "name": "stdout",
          "text": [
            "\n",
            "Epoch 30/10 -> loss: 6.130033016204834\n"
          ]
        }
      ]
    },
    {
      "cell_type": "code",
      "source": [
        "# Extract and save the word embeddings\n",
        "word_embeddings = w2v_model.embedding.weight.data\n",
        "torch.save(word_embeddings, 'word_embeddings.pt')"
      ],
      "metadata": {
        "id": "q2epB7idI34C"
      },
      "execution_count": null,
      "outputs": []
    },
    {
      "cell_type": "code",
      "source": [
        "word_embeddings = torch.load('word_embeddings.pt')\n",
        "print(word_embeddings.shape)"
      ],
      "metadata": {
        "id": "k2eJAsImI8T0"
      },
      "execution_count": null,
      "outputs": []
    },
    {
      "cell_type": "code",
      "source": [
        "import matplotlib.pyplot as plt\n",
        "\n",
        "from sklearn.manifold import TSNE\n",
        "# Compute t-SNE embeddings\n",
        "tsne_embeddings = TSNE(n_components=2).fit_transform(word_embeddings.cpu().numpy()[0:100,:])\n",
        "# Plot t-SNE embeddings\n",
        "plt.figure(figsize=(10, 10))\n",
        "for i in range(100):\n",
        "    x, y = tsne_embeddings[i, :]\n",
        "    plt.scatter(x, y)\n",
        "    plt.annotate(id2token[i], xy=(x, y), xytext=(5, 2), textcoords='offset points', ha='right', va='bottom')\n",
        "plt.show()"
      ],
      "metadata": {
        "colab": {
          "base_uri": "https://localhost:8080/",
          "height": 592
        },
        "id": "LJixWk8tJRsU",
        "outputId": "6cc099d3-5fbf-4be2-f207-ea2e57303281"
      },
      "execution_count": null,
      "outputs": [
        {
          "output_type": "display_data",
          "data": {
            "text/plain": [
              "<Figure size 720x720 with 1 Axes>"
            ],
            "image/png": "[encoded data removed]"
          },
          "metadata": {
            "needs_background": "light"
          }
        }
      ]
    },
    {
      "cell_type": "code",
      "source": [
        "for i in range(15):\n",
        "\n",
        "    similarity = torch.nn.functional.cosine_similarity(word_embeddings, word_embeddings[i], dim=1)\n",
        "    k = 11 # number of closest words to retrieve\n",
        "    closest_word_indices = similarity.argsort(descending=True)[:k]\n",
        "    words = []\n",
        "    for idx in closest_word_indices[1:]:\n",
        "        words.append(id2token[int(idx.cpu().numpy())])\n",
        "    print(f'Word: {id2token[i]} -> Closest: {words}')"
      ],
      "metadata": {
        "colab": {
          "base_uri": "https://localhost:8080/"
        },
        "id": "a8XqJftYJ_QW",
        "outputId": "226fd6aa-00e8-48ef-bedc-6ab222252e89"
      },
      "execution_count": null,
      "outputs": [
        {
          "output_type": "stream",
          "name": "stdout",
          "text": [
            "Word: dctn -> Closest: ['slc', 'others', 'splice', 'kl', 'bmi', 'met', 'bad', 'susceptibility', 'cognitively', 'eukaryote']\n",
            "Word: a -> Closest: ['ewsr', 'osteomyelitis', 'broad', 'phosphodiesterase', 'mabs', 'hdr', 'decisive', 'oligonucleotide', 'dissub', 'paucity']\n",
            "Word: modifier -> Closest: ['releasing', 'esthetic', 'hexim', 'lxr', 'generalized', 'mci', 'perfringens', 'ref', 'explicit', 'sorafenib']\n",
            "Word: of -> Closest: ['atoh', 'describes', 'nodulation', 'fr', 'atlantic', 'ecology', 'mput', 'implantable', 'spondylitis', 'inos']\n",
            "Word: chronic -> Closest: ['obstructive', 'neurotoxic', 'endemic', 'mesenteric', 'alcoholic', 'reflux', 'objective', 'acute', 'coinfection', 'intellectual']\n",
            "Word: pseudomonas -> Closest: ['aeruginosa', 'baumannii', 'ncam', 'rifamycin', 'diethoxylate', 'loaded', 'bacteremia', 'bacterium', 'ribotype', 'dissect']\n",
            "Word: aeruginosa -> Closest: ['pseudomonas', 'belonged', 'slaughter', 'putida', 'possessing', 'exponential', 'baumannii', 'rank', 'tobramycin', 'pao']\n",
            "Word: infection -> Closest: ['demyelinating', 'meningitis', 'cmv', 'clamping', 'mitosis', 'chagasi', 'wore', 'pneumoniae', 'nosocomial', 'haemophilus']\n",
            "Word: in -> Closest: ['clec', 'benzene', 'giant', 'glia', 'mucosal', 'vidas', 'naive', 'obturator', 'sagalla', 'descriptive']\n",
            "Word: cystic -> Closest: ['shunt', 'aspiration', 'airway', 'capsule', 'lao', 'irritation', 'endocrine', 'ccsp', 'interstitial', 'numerosity']\n",
            "Word: fibrosis -> Closest: ['tinea', 'lvh', 'celiac', 'convulsion', 'dio', 'blotting', 'cardiomyocytes', 'otr', 'adjunct', 'lesional']\n",
            "Word: pa -> Closest: ['mets', 'pkc', 'nanocapsule', 'glasgow', 'diagram', 'intercourse', 'salmo', 'caproate', 'ctrl', 'incremental']\n",
            "Word: cf -> Closest: ['norwegian', 'hyperglycemia', 'whereas', 'sinus', 'latin', 'opiate', 'bivariate', 'definite', 'sclerosis', 'opscc']\n",
            "Word: patient -> Closest: ['disoproxil', 'who', 'thymectomy', 'person', 'invasiveness', 'bicondylar', 'denosumab', 'burden', 'ilc', 'dog']\n",
            "Word: is -> Closest: ['are', 'wa', 'remains', 'neuro', 'explains', 'polycystic', 'interacts', 'ctgf', 'consists', 'strengthen']\n"
          ]
        }
      ]
    },
    {
      "cell_type": "markdown",
      "source": [
        "# Implementing Word2Vec From Gensim Library"
      ],
      "metadata": {
        "id": "Rj9I7e6xbJoA"
      }
    },
    {
      "cell_type": "code",
      "source": [
        "from gensim.models import Word2Vec, FastText\n",
        "from nltk.tokenize import sent_tokenize\n"
      ],
      "metadata": {
        "id": "74W7a8aSbQZ9"
      },
      "execution_count": null,
      "outputs": []
    },
    {
      "cell_type": "code",
      "source": [
        " # Preprocess the text data and generate a vocabulary\n",
        "def preprocess_corpus(corpus):\n",
        "    # 1. Extract all the titles and abstracts from the file \n",
        "    pattern = \"[0-9]+\\|[a,t]\\|\"\n",
        "    abst_and_title = [sent_tokenize(re.sub(pattern, '', i)) for i in corpus if re.search(pattern, i)]\n",
        "\n",
        "    sentences = []\n",
        "    for i in abst_and_title: \n",
        "        for sent in i:\n",
        "            pattern = r'\\b[^a-zA-Z\\s]*\\b'\n",
        "            temp = re.sub(pattern, '', sent) # remove all words that do not contain at least one alphabet\n",
        "            sentences.append(re.sub(\"[^a-zA-Z0-9]\", \" \", temp).lower().split()) # remove all characters that are not digits or alphabets\n",
        "    return sentences"
      ],
      "metadata": {
        "id": "-KGPLOfUbbQ3"
      },
      "execution_count": null,
      "outputs": []
    },
    {
      "cell_type": "code",
      "source": [
        "sentences = preprocess_corpus(original_corpus)"
      ],
      "metadata": {
        "id": "HLY2TwTRdNk9"
      },
      "execution_count": null,
      "outputs": []
    },
    {
      "cell_type": "code",
      "source": [
        "from gensim.models.callbacks import CallbackAny2Vec\n",
        "\n",
        "class callback(CallbackAny2Vec):\n",
        "    '''Callback to print loss after each epoch.'''\n",
        "\n",
        "    def __init__(self):\n",
        "        self.epoch = 0\n",
        "        self.loss_to_be_subed = 0\n",
        "\n",
        "    def on_epoch_end(self, model):\n",
        "        loss = model.get_latest_training_loss()\n",
        "        loss_now = loss - self.loss_to_be_subed\n",
        "        self.loss_to_be_subed = loss\n",
        "        print('Loss after epoch {}: {}'.format(self.epoch, loss_now))\n",
        "        self.epoch += 1"
      ],
      "metadata": {
        "id": "s3OX--P5VryZ"
      },
      "execution_count": null,
      "outputs": []
    },
    {
      "cell_type": "code",
      "source": [
        "model = Word2Vec(sentences, min_count=5, window=3, sg=1, compute_loss=True, callbacks=[callback()], iter=8)"
      ],
      "metadata": {
        "id": "kgbd278bdYoo",
        "colab": {
          "base_uri": "https://localhost:8080/"
        },
        "outputId": "a5350d26-e827-4764-c5f0-fa1f884fb716"
      },
      "execution_count": null,
      "outputs": [
        {
          "output_type": "stream",
          "name": "stdout",
          "text": [
            "Loss after epoch 0: 2759421.0\n",
            "Loss after epoch 1: 1857271.0\n",
            "Loss after epoch 2: 1771844.5\n",
            "Loss after epoch 3: 1574074.0\n",
            "Loss after epoch 4: 1557478.5\n",
            "Loss after epoch 5: 1355659.0\n",
            "Loss after epoch 6: 1342774.0\n",
            "Loss after epoch 7: 1374697.0\n"
          ]
        }
      ]
    },
    {
      "cell_type": "code",
      "source": [
        "print(model.wv.most_similar('hospital', topn=10))\n",
        "print(model.wv['hospital'].shape)"
      ],
      "metadata": {
        "colab": {
          "base_uri": "https://localhost:8080/"
        },
        "id": "kIP9pMkT9ZYQ",
        "outputId": "01ce42be-5af3-4c49-d5a7-215477455918"
      },
      "execution_count": null,
      "outputs": [
        {
          "output_type": "stream",
          "name": "stdout",
          "text": [
            "[('icu', 0.7706996202468872), ('outpatient', 0.7694927453994751), ('department', 0.7684365510940552), ('university', 0.7612595558166504), ('hospitals', 0.7521671056747437), ('tertiary', 0.749620795249939), ('texas', 0.7469611167907715), ('emergency', 0.7466414570808411), ('inpatient', 0.7464724183082581), ('unit', 0.7393064498901367)]\n",
            "(100,)\n"
          ]
        }
      ]
    },
    {
      "cell_type": "markdown",
      "source": [
        "# Implementing FastText From Gensim Library"
      ],
      "metadata": {
        "id": "omJH7lQ1ds5c"
      }
    },
    {
      "cell_type": "code",
      "source": [
        "model_FT = FastText(sentences=sentences, window=3, min_count=5)  # instantiate"
      ],
      "metadata": {
        "id": "0e2GH1_G9yQa"
      },
      "execution_count": null,
      "outputs": []
    },
    {
      "cell_type": "code",
      "source": [
        "print(model_FT.wv.most_similar('hospital', topn=10))"
      ],
      "metadata": {
        "colab": {
          "base_uri": "https://localhost:8080/"
        },
        "id": "5EwjZbJT-zzP",
        "outputId": "936ea1a9-b154-4e67-a96b-726f057a94a1"
      },
      "execution_count": null,
      "outputs": [
        {
          "output_type": "stream",
          "name": "stdout",
          "text": [
            "[('prehospital', 0.9778193235397339), ('inhospital', 0.9719679355621338), ('hospitalist', 0.9503475427627563), ('hospice', 0.9279197454452515), ('occipital', 0.9070962071418762), ('hospitals', 0.9070315957069397), ('earth', 0.8999234437942505), ('periodic', 0.8682997226715088), ('nursery', 0.8653832674026489), ('february', 0.8634682893753052)]\n"
          ]
        }
      ]
    }
  ]
}